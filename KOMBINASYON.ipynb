{
  "nbformat": 4,
  "nbformat_minor": 0,
  "metadata": {
    "colab": {
      "provenance": [],
      "authorship_tag": "ABX9TyOFQRGazxW+NsMNjocebsil",
      "include_colab_link": true
    },
    "kernelspec": {
      "name": "python3",
      "display_name": "Python 3"
    },
    "language_info": {
      "name": "python"
    }
  },
  "cells": [
    {
      "cell_type": "markdown",
      "metadata": {
        "id": "view-in-github",
        "colab_type": "text"
      },
      "source": [
        "<a href=\"https://colab.research.google.com/github/efemehmetkarabulut/AYRIK-SISTEMLER-ILERI-OLASILIK/blob/main/KOMBINASYON.ipynb\" target=\"_parent\"><img src=\"https://colab.research.google.com/assets/colab-badge.svg\" alt=\"Open In Colab\"/></a>"
      ]
    },
    {
      "cell_type": "code",
      "execution_count": null,
      "metadata": {
        "colab": {
          "base_uri": "https://localhost:8080/"
        },
        "id": "YQk8KiWfqh-J",
        "outputId": "8859e466-6693-4295-fc4e-d96c674c63ca"
      },
      "outputs": [
        {
          "output_type": "stream",
          "name": "stdout",
          "text": [
            "1 Kişi İçin Kombinasyon Sayısı: 4\n",
            "('Ahmet',)\n",
            "('Mehmet',)\n",
            "('Ayşe',)\n",
            "('Fatma',)\n",
            "2 Kişi İçin Kombinasyon Sayısı: 6\n",
            "('Ahmet', 'Mehmet')\n",
            "('Ahmet', 'Ayşe')\n",
            "('Ahmet', 'Fatma')\n",
            "('Mehmet', 'Ayşe')\n",
            "('Mehmet', 'Fatma')\n",
            "('Ayşe', 'Fatma')\n",
            "3 Kişi İçin Kombinasyon Sayısı: 4\n",
            "('Ahmet', 'Mehmet', 'Ayşe')\n",
            "('Ahmet', 'Mehmet', 'Fatma')\n",
            "('Ahmet', 'Ayşe', 'Fatma')\n",
            "('Mehmet', 'Ayşe', 'Fatma')\n",
            "4 Kişi İçin Kombinasyon Sayısı: 1\n",
            "('Ahmet', 'Mehmet', 'Ayşe', 'Fatma')\n"
          ]
        }
      ],
      "source": [
        "#Ahmet, Mehmet , Ayşe , Fatma isimli 4 arkadaştan oluşan bir arkadaş grubundan ;\n",
        "# 1 kişi kaç farklı şekilde seçilebilir ?\n",
        "# 2 kişi kaç farklı şekilde seçilebilir ?\n",
        "# 3 kişi kaç farklı şekilde seçilebilir ?\n",
        "# 4 kişi kaç farklı şekilde seçilebilir ?\n",
        "# Her bir soru için cevapları hem sayısal hem de şema olarak veriniz.\n",
        "\n",
        "from itertools import combinations\n",
        "\n",
        "# Örnek insanlar\n",
        "insanlar = ['Ahmet', 'Mehmet', 'Ayşe', 'Fatma']\n",
        "\n",
        "# Kombinasyon sayısı ve her bir kombinasyonu gösterme\n",
        "for r in range(1, len(insanlar) + 1):\n",
        "    kombinasyonlar = list(combinations(insanlar, r))\n",
        "    print(f\"{r} Kişi İçin Kombinasyon Sayısı:\", len(kombinasyonlar))\n",
        "    for c in kombinasyonlar:\n",
        "        print(c)\n"
      ]
    },
    {
      "cell_type": "code",
      "source": [],
      "metadata": {
        "id": "UsWmXHENl1ON"
      },
      "execution_count": null,
      "outputs": []
    }
  ]
}