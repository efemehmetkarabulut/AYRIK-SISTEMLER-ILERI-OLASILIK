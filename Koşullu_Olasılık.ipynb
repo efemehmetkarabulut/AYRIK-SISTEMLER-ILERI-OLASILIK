{
  "nbformat": 4,
  "nbformat_minor": 0,
  "metadata": {
    "colab": {
      "provenance": [],
      "authorship_tag": "ABX9TyPk7t/VncTzNmwhrTRAae+y",
      "include_colab_link": true
    },
    "kernelspec": {
      "name": "python3",
      "display_name": "Python 3"
    },
    "language_info": {
      "name": "python"
    }
  },
  "cells": [
    {
      "cell_type": "markdown",
      "metadata": {
        "id": "view-in-github",
        "colab_type": "text"
      },
      "source": [
        "<a href=\"https://colab.research.google.com/github/efemehmetkarabulut/AYRIK-SISTEMLER-ILERI-OLASILIK/blob/main/Ko%C5%9Fullu_Olas%C4%B1l%C4%B1k.ipynb\" target=\"_parent\"><img src=\"https://colab.research.google.com/assets/colab-badge.svg\" alt=\"Open In Colab\"/></a>"
      ]
    },
    {
      "cell_type": "code",
      "execution_count": null,
      "metadata": {
        "id": "ChXi9qMyVyjh"
      },
      "outputs": [],
      "source": []
    },
    {
      "cell_type": "code",
      "source": [
        "# Problem: Bir alışveriş merkezinde üç farklı ürün (A, B ve C) bulunmaktadır.\n",
        "# Müşterilerin %40'ı Ürün A'yı, %30'u Ürün B'yi ve %30'u Ürün C'yi tercih etmektedir.\n",
        "# Ayrıca, Ürün A'yı tercih eden müşterilerin %20'si aynı zamanda Ürün B'yi,\n",
        "# %10'u ise Ürün C'yi seçmektedir. Ürün B'yi tercih eden müşterilerin %40'ı\n",
        "# Ürün A'yı, %20'si ise Ürün C'yi tercih etmektedir. Ürün C'yi tercih eden\n",
        "# müşterilerin %50'si Ürün A'yı, %40'ı ise Ürün B'yi seçmektedir.\n",
        "#\n",
        "# Sorular:\n",
        "# 1. Bir müşterinin Ürün A'yı seçme olasılığı nedir?\n",
        "# 2. Bir müşteri Ürün B'yi seçtiğinde, aynı zamanda Ürün A'yı seçme olasılığı nedir?\n",
        "# 3. Bir müşteri Ürün C'yi seçtiğinde, Ürün A'yı seçme olasılığı nedir?\n",
        "# 4. En az bir ürünü satın alacak olan bir müşterinin, Ürün A'yı almama olasılığı nedir?\n",
        "\n",
        "# İpucu: Koşullu olasılıkları hesaplamak için Bayes teoremi kullanılabilir.\n",
        "\n",
        "# Sorunun çözümü için gerekli hesaplamaları yapalım\n",
        "PA = 0.4  # Ürün A'nın seçilme olasılığı\n",
        "PB = 0.3  # Ürün B'nin seçilme olasılığı\n",
        "PC = 0.3  # Ürün C'nin seçilme olasılığı\n",
        "\n",
        "# Bir müşterinin Ürün A'yı seçme olasılığı\n",
        "P_A = PA\n",
        "\n",
        "# Bir müşteri Ürün B'yi seçtiğinde, aynı zamanda Ürün A'yı seçme olasılığı\n",
        "P_A_B = 0.2 * PA\n",
        "\n",
        "# Bir müşteri Ürün C'yi seçtiğinde, Ürün A'yı seçme olasılığı\n",
        "P_A_C = 0.1 * PA\n",
        "\n",
        "# En az bir ürünü satın alacak olan bir müşterinin, Ürün A'yı almama olasılığı\n",
        "P_notA = 1 - PA\n",
        "\n",
        "# Sonuçları ekrana yazdıralım\n",
        "print(\"1. Bir müşterinin Ürün A'yı seçme olasılığı:\", P_A)\n",
        "print(\"2. Bir müşteri Ürün B'yi seçtiğinde, aynı zamanda Ürün A'yı seçme olasılığı:\", P_A_B)\n",
        "print(\"3. Bir müşteri Ürün C'yi seçtiğinde, Ürün A'yı seçme olasılığı:\", P_A_C)\n",
        "print(\"4. En az bir ürünü satın alacak olan bir müşterinin, Ürün A'yı almama olasılığı:\", P_notA)\n"
      ],
      "metadata": {
        "colab": {
          "base_uri": "https://localhost:8080/"
        },
        "id": "OCl3pTGrV5vY",
        "outputId": "f126d796-f49f-4f26-9181-e2e27d4384f2"
      },
      "execution_count": 1,
      "outputs": [
        {
          "output_type": "stream",
          "name": "stdout",
          "text": [
            "1. Bir müşterinin Ürün A'yı seçme olasılığı: 0.4\n",
            "2. Bir müşteri Ürün B'yi seçtiğinde, aynı zamanda Ürün A'yı seçme olasılığı: 0.08000000000000002\n",
            "3. Bir müşteri Ürün C'yi seçtiğinde, Ürün A'yı seçme olasılığı: 0.04000000000000001\n",
            "4. En az bir ürünü satın alacak olan bir müşterinin, Ürün A'yı almama olasılığı: 0.6\n"
          ]
        }
      ]
    }
  ]
}