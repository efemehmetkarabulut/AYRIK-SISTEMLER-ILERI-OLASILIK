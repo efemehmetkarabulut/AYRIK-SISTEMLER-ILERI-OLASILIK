{
  "nbformat": 4,
  "nbformat_minor": 0,
  "metadata": {
    "colab": {
      "provenance": [],
      "authorship_tag": "ABX9TyMkcy/o6udrYTMoPPqknVWZ",
      "include_colab_link": true
    },
    "kernelspec": {
      "name": "python3",
      "display_name": "Python 3"
    },
    "language_info": {
      "name": "python"
    }
  },
  "cells": [
    {
      "cell_type": "markdown",
      "metadata": {
        "id": "view-in-github",
        "colab_type": "text"
      },
      "source": [
        "<a href=\"https://colab.research.google.com/github/efemehmetkarabulut/AYRIK-SISTEMLER-ILERI-OLASILIK/blob/main/Untitled4.ipynb\" target=\"_parent\"><img src=\"https://colab.research.google.com/assets/colab-badge.svg\" alt=\"Open In Colab\"/></a>"
      ]
    },
    {
      "cell_type": "code",
      "execution_count": 49,
      "metadata": {
        "colab": {
          "base_uri": "https://localhost:8080/"
        },
        "id": "ZLqe_6FbX1wR",
        "outputId": "6ffa4d6b-b13d-4044-e525-63f1dcaa9ef7"
      },
      "outputs": [
        {
          "output_type": "stream",
          "name": "stdout",
          "text": [
            "               precision    recall  f1-score   support\n",
            "\n",
            "     business       0.98      0.96      0.97       103\n",
            "entertainment       1.00      0.98      0.99        84\n",
            "     politics       0.98      0.99      0.98        80\n",
            "        sport       1.00      0.99      0.99        98\n",
            "         tech       0.95      1.00      0.98        80\n",
            "\n",
            "     accuracy                           0.98       445\n",
            "    macro avg       0.98      0.98      0.98       445\n",
            " weighted avg       0.98      0.98      0.98       445\n",
            "\n"
          ]
        }
      ],
      "source": [
        "import pandas as pd\n",
        "import re\n",
        "from sklearn.model_selection import train_test_split\n",
        "from sklearn.feature_extraction.text import TfidfVectorizer\n",
        "from sklearn.naive_bayes import MultinomialNB\n",
        "from sklearn.pipeline import Pipeline\n",
        "from sklearn.model_selection import GridSearchCV\n",
        "from sklearn.metrics import classification_report\n",
        "\n",
        "# Adım 1: Veri setini indiren fonksiyon\n",
        "def download_dataset():\n",
        "    file_path = '‪/content/bbc_data_1_2.xlsx'\n",
        "    # Veri setini Kaggle'dan indirme veya farklı bir kaynaktan yükleme işlemi gerçekleştirilir\n",
        "    # Burada veri setinin Kaggle üzerinden indirilmiş olduğunu varsayalım\n",
        "    # Daha sonra veri seti dosyasını okuyarak bir DataFrame'e dönüştürülür\n",
        "    data = pd.read_excel('bbc_data_1_2.xlsx')\n",
        "    return data\n",
        "\n",
        "# Adım 2: Veriyi temizleyen fonksiyon\n",
        "def clean_text(text):\n",
        "    # Noktalama işaretlerini kaldırma\n",
        "    text = re.sub(r'[^\\w\\s]', '', text)\n",
        "    # Birden fazla boşluğu tek boşlukla değiştirme\n",
        "    text = re.sub(r'\\s+', ' ', text)\n",
        "    # Metni küçük harfe dönüştürme\n",
        "    text = text.lower()\n",
        "    return text\n",
        "\n",
        "# Adım 3: Eksik değerleri doldurma\n",
        "def fill_missing_values(data):\n",
        "    data.dropna(inplace=True)\n",
        "    return data\n",
        "\n",
        "# Adım 4: Hiperparametre optimizasyonunu gerçekleştiren fonksiyon\n",
        "def optimize_hyperparameters(X_train, y_train):\n",
        "    # TF-IDF vektörlerini oluşturmak için bir vektörleme nesnesi oluşturulur\n",
        "    tfidf_vectorizer = TfidfVectorizer()\n",
        "    # Naive Bayes sınıflandırıcı modeli\n",
        "    nb_classifier = MultinomialNB()\n",
        "    # Pipeline oluşturulur\n",
        "    nb_model = Pipeline([('tfidf', tfidf_vectorizer), ('clf', nb_classifier)])\n",
        "\n",
        "    # Hiperparametre aralıkları\n",
        "    param_grid = {'tfidf__max_df': [0.5, 0.75, 1.0],\n",
        "                  'tfidf__ngram_range': [(1, 1), (1, 2)],\n",
        "                  'clf__alpha': [0.1, 0.5, 1.0]}\n",
        "\n",
        "    # GridSearchCV kullanarak hiperparametre optimizasyonu yapılır\n",
        "    grid_search = GridSearchCV(nb_model, param_grid, cv=5)\n",
        "    grid_search.fit(X_train, y_train)\n",
        "    best_params = grid_search.best_params_\n",
        "\n",
        "    return best_params\n",
        "\n",
        "# Adım 5: Veriyi ayrıştıran fonksiyon\n",
        "def split_data(data):\n",
        "    X = data['text']\n",
        "    y = data['category']\n",
        "    X_train, X_test, y_train, y_test = train_test_split(X, y, test_size=0.2, random_state=42)\n",
        "    return X_train, X_test, y_train, y_test\n",
        "\n",
        "# Adım 6: Sınıflandırma modelini eğiten fonksiyon\n",
        "def train_model(X_train, y_train, best_params):\n",
        "    tfidf_vectorizer = TfidfVectorizer(max_df=best_params['tfidf__max_df'], ngram_range=best_params['tfidf__ngram_range'])\n",
        "    nb_classifier = MultinomialNB(alpha=best_params['clf__alpha'])\n",
        "    nb_model = Pipeline([('tfidf', tfidf_vectorizer), ('clf', nb_classifier)])\n",
        "    nb_model.fit(X_train, y_train)\n",
        "    return nb_model\n",
        "\n",
        "# Adım 7: Sonuçları raporlayan fonksiyon\n",
        "def report_results(model, X_test, y_test):\n",
        "    predictions = model.predict(X_test)\n",
        "    report = classification_report(y_test, predictions)\n",
        "    print(report)\n",
        "\n",
        "# Ana fonksiyon\n",
        "def main():\n",
        "    # Adım 1: Veri setini indirme\n",
        "    data = download_dataset()\n",
        "\n",
        "    # Adım 2: Veriyi temizleme\n",
        "    data['text'] = data['text'].apply(clean_text)\n",
        "\n",
        "    # Adım 3: Eksik değerleri doldurma\n",
        "    data = fill_missing_values(data)\n",
        "\n",
        "    # Adım 4: Veriyi bölme\n",
        "    X_train, X_test, y_train, y_test = split_data(data)\n",
        "\n",
        "    # Adım 5: Hiperparametre optimizasyonu\n",
        "    best_params = optimize_hyperparameters(X_train, y_train)\n",
        "\n",
        "    # Adım 6: Modeli eğitme\n",
        "    model = train_model(X_train, y_train, best_params)\n",
        "\n",
        "    # Adım 7: Sonuçları raporlama\n",
        "    report_results(model, X_test, y_test)\n",
        "\n",
        "# Ana fonksiyonu çağırma\n",
        "if __name__ == \"__main__\":\n",
        "    main()\n",
        "\n"
      ]
    },
    {
      "cell_type": "code",
      "source": [],
      "metadata": {
        "id": "ktvJGbchpV8l"
      },
      "execution_count": null,
      "outputs": []
    },
    {
      "cell_type": "code",
      "source": [],
      "metadata": {
        "id": "cUqEJYgFc0fI"
      },
      "execution_count": null,
      "outputs": []
    }
  ]
}
