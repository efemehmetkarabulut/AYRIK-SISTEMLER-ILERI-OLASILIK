{
  "nbformat": 4,
  "nbformat_minor": 0,
  "metadata": {
    "colab": {
      "provenance": [],
      "authorship_tag": "ABX9TyMBQsvJ66M2YlNwOu4/BOio",
      "include_colab_link": true
    },
    "kernelspec": {
      "name": "python3",
      "display_name": "Python 3"
    },
    "language_info": {
      "name": "python"
    }
  },
  "cells": [
    {
      "cell_type": "markdown",
      "metadata": {
        "id": "view-in-github",
        "colab_type": "text"
      },
      "source": [
        "<a href=\"https://colab.research.google.com/github/efemehmetkarabulut/empty/blob/main/GUVERCIN2.ipynb\" target=\"_parent\"><img src=\"https://colab.research.google.com/assets/colab-badge.svg\" alt=\"Open In Colab\"/></a>"
      ]
    },
    {
      "cell_type": "code",
      "execution_count": 2,
      "metadata": {
        "colab": {
          "base_uri": "https://localhost:8080/"
        },
        "id": "5ChPJnVp2ZOZ",
        "outputId": "d19de18d-7aee-47e0-cfd1-90fa0f33761e"
      },
      "outputs": [
        {
          "output_type": "stream",
          "name": "stdout",
          "text": [
            "Güvercin sayısını girin: 55\n",
            "Yuva sayısını girin: 33\n",
            "En az bir yuvada iki güvercinin bulunacağı yuva sayısı: 2\n"
          ]
        }
      ],
      "source": [
        "def guvercin_yasasi_problem_çözümü(guvercin_sayisi, yuva_sayisi):\n",
        "    \"\"\"\n",
        "    Güvercin yasası problemini çözen fonksiyon.\n",
        "\n",
        "    Parametreler:\n",
        "    guvercin_sayisi (int): Güvercin sayısı.\n",
        "    yuva_sayisi (int): Yuva sayısı.\n",
        "\n",
        "    Döndürülen Değer:\n",
        "    int: En az bir yuvada iki güvercinin bulunacağı yuva sayısı.\n",
        "    \"\"\"\n",
        "    return -(-guvercin_sayisi // yuva_sayisi)\n",
        "\n",
        "guvercin_sayisi = int(input(\"Güvercin sayısını girin: \"))\n",
        "yuva_sayisi = int(input(\"Yuva sayısını girin: \"))\n",
        "\n",
        "def guvercin_yasasi(guvercin_sayisi, yuva_sayisi):\n",
        "    return -(-guvercin_sayisi // yuva_sayisi)\n",
        "\n",
        "\n",
        "print(\"En az bir yuvada iki güvercinin bulunacağı yuva sayısı:\", guvercin_yasasi(guvercin_sayisi, yuva_sayisi))"
      ]
    },
    {
      "cell_type": "code",
      "source": [
        "\n",
        "\n"
      ],
      "metadata": {
        "id": "ZvigRwOrjKDe"
      },
      "execution_count": null,
      "outputs": []
    }
  ]
}