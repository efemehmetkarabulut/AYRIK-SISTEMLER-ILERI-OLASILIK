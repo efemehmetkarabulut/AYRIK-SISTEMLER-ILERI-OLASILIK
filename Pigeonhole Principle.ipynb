{
  "nbformat": 4,
  "nbformat_minor": 0,
  "metadata": {
    "colab": {
      "provenance": [],
      "authorship_tag": "ABX9TyMK9mQzf6gPRTLy03/LQN8E",
      "include_colab_link": true
    },
    "kernelspec": {
      "name": "python3",
      "display_name": "Python 3"
    },
    "language_info": {
      "name": "python"
    }
  },
  "cells": [
    {
      "cell_type": "markdown",
      "metadata": {
        "id": "view-in-github",
        "colab_type": "text"
      },
      "source": [
        "<a href=\"https://colab.research.google.com/github/efemehmetkarabulut/AYRIK-SISTEMLER-ILERI-OLASILIK/blob/main/Pigeonhole%20Principle.ipynb\" target=\"_parent\"><img src=\"https://colab.research.google.com/assets/colab-badge.svg\" alt=\"Open In Colab\"/></a>"
      ]
    },
    {
      "cell_type": "code",
      "execution_count": 10,
      "metadata": {
        "colab": {
          "base_uri": "https://localhost:8080/"
        },
        "id": "Raa9qyoYl5_I",
        "outputId": "8641f4ef-26d6-42f6-fc92-7bf2f6ead614"
      },
      "outputs": [
        {
          "output_type": "stream",
          "name": "stdout",
          "text": [
            "Yuva Sayısı: 455\n",
            "Güvercin Sayısı: 500\n",
            "En az bir çakışma olacaktır.\n"
          ]
        }
      ],
      "source": [
        "#SORU\n",
        "#Bir okulda 15 farklı ders ve  50 öğrenci vardır. Her öğrenci 5 ders alacaktır.\n",
        "#Bu koşullar altında hiçbir öğrencinin 3 dersi çakışmayacak şekilde ders seçimi\n",
        "#tamamlanabilir mi ?\n",
        "\n",
        "from math import comb, ceil\n",
        "\n",
        "# Verilen sayılar\n",
        "ders_sayisi = 15\n",
        "ogrenci_sayisi = 50\n",
        "ders_alma_limiti = 5\n",
        "\n",
        "# Yuva sayısını hesapla (15'in 3'lü kombinasyonu)\n",
        "yuva_sayisi = comb(ders_sayisi, 3)\n",
        "\n",
        "# Güvercin sayısını hesapla (5'in 3'lü kombinasyonu * öğrenci sayısı)\n",
        "guvercin_sayisi = comb(ders_alma_limiti, 3) * ogrenci_sayisi\n",
        "\n",
        "print(\"Yuva Sayısı:\", yuva_sayisi)\n",
        "print(\"Güvercin Sayısı:\", guvercin_sayisi)\n",
        "\n",
        "# Güvercin Yasası'na göre çakışma olup olmayacağını kontrol et\n",
        "if ceil(guvercin_sayisi / yuva_sayisi) > 1:\n",
        "    print(\"En az bir çakışma olacaktır.\")\n",
        "else:\n",
        "    print(\"Çakışma olmayacaktır.\")"
      ]
    },
    {
      "cell_type": "code",
      "source": [],
      "metadata": {
        "id": "38MdKzMwpMBX"
      },
      "execution_count": 4,
      "outputs": []
    }
  ]
}