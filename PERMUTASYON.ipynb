{
  "nbformat": 4,
  "nbformat_minor": 0,
  "metadata": {
    "colab": {
      "provenance": [],
      "include_colab_link": true
    },
    "kernelspec": {
      "name": "python3",
      "display_name": "Python 3"
    },
    "language_info": {
      "name": "python"
    }
  },
  "cells": [
    {
      "cell_type": "markdown",
      "metadata": {
        "id": "view-in-github",
        "colab_type": "text"
      },
      "source": [
        "<a href=\"https://colab.research.google.com/github/efemehmetkarabulut/empty/blob/main/PERMUTASYON.ipynb\" target=\"_parent\"><img src=\"https://colab.research.google.com/assets/colab-badge.svg\" alt=\"Open In Colab\"/></a>"
      ]
    },
    {
      "cell_type": "code",
      "execution_count": 2,
      "metadata": {
        "id": "YoRCfBraJL3n",
        "colab": {
          "base_uri": "https://localhost:8080/"
        },
        "outputId": "2fe55925-df83-4053-bb54-37e13ae769ae"
      },
      "outputs": [
        {
          "output_type": "stream",
          "name": "stdout",
          "text": [
            "Toplam Permütasyon Sayısı: 24\n",
            "('Ahmet', 'Mehmet', 'Ayşe', 'Fatma')\n",
            "('Ahmet', 'Mehmet', 'Fatma', 'Ayşe')\n",
            "('Ahmet', 'Ayşe', 'Mehmet', 'Fatma')\n",
            "('Ahmet', 'Ayşe', 'Fatma', 'Mehmet')\n",
            "('Ahmet', 'Fatma', 'Mehmet', 'Ayşe')\n",
            "('Ahmet', 'Fatma', 'Ayşe', 'Mehmet')\n",
            "('Mehmet', 'Ahmet', 'Ayşe', 'Fatma')\n",
            "('Mehmet', 'Ahmet', 'Fatma', 'Ayşe')\n",
            "('Mehmet', 'Ayşe', 'Ahmet', 'Fatma')\n",
            "('Mehmet', 'Ayşe', 'Fatma', 'Ahmet')\n",
            "('Mehmet', 'Fatma', 'Ahmet', 'Ayşe')\n",
            "('Mehmet', 'Fatma', 'Ayşe', 'Ahmet')\n",
            "('Ayşe', 'Ahmet', 'Mehmet', 'Fatma')\n",
            "('Ayşe', 'Ahmet', 'Fatma', 'Mehmet')\n",
            "('Ayşe', 'Mehmet', 'Ahmet', 'Fatma')\n",
            "('Ayşe', 'Mehmet', 'Fatma', 'Ahmet')\n",
            "('Ayşe', 'Fatma', 'Ahmet', 'Mehmet')\n",
            "('Ayşe', 'Fatma', 'Mehmet', 'Ahmet')\n",
            "('Fatma', 'Ahmet', 'Mehmet', 'Ayşe')\n",
            "('Fatma', 'Ahmet', 'Ayşe', 'Mehmet')\n",
            "('Fatma', 'Mehmet', 'Ahmet', 'Ayşe')\n",
            "('Fatma', 'Mehmet', 'Ayşe', 'Ahmet')\n",
            "('Fatma', 'Ayşe', 'Ahmet', 'Mehmet')\n",
            "('Fatma', 'Ayşe', 'Mehmet', 'Ahmet')\n"
          ]
        }
      ],
      "source": [
        "from itertools import permutations\n",
        "\n",
        "# Örnek insanlar\n",
        "insanlar = ['Ahmet', 'Mehmet', 'Ayşe', 'Fatma']\n",
        "\n",
        "# İnsanların permütasyonlarını bulmak\n",
        "permütasyonlar = list(permutations(insanlar))\n",
        "\n",
        "# Permütasyon sayısını ve her bir permütasyonu gösterme\n",
        "print(\"Toplam Permütasyon Sayısı:\", len(permütasyonlar))\n",
        "for p in permütasyonlar:\n",
        "    print(p)\n"
      ]
    }
  ]
}